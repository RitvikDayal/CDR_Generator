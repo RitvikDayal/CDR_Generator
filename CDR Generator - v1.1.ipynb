{
 "cells": [
  {
   "cell_type": "markdown",
   "metadata": {},
   "source": [
    "# CDR Generator"
   ]
  },
  {
   "cell_type": "code",
   "execution_count": 2,
   "metadata": {},
   "outputs": [],
   "source": [
    "import pandas as pd\n",
    "import random\n",
    "import math\n",
    "from datetime import timedelta, datetime"
   ]
  },
  {
   "cell_type": "markdown",
   "metadata": {},
   "source": [
    "## Loading contact list\n",
    "Here a text file containing 100 contacts is loaded. The numbers are accorsing to Indian Phone Nuumbers Standards"
   ]
  },
  {
   "cell_type": "code",
   "execution_count": 21,
   "metadata": {},
   "outputs": [
    {
     "data": {
      "text/html": [
       "<div>\n",
       "<style scoped>\n",
       "    .dataframe tbody tr th:only-of-type {\n",
       "        vertical-align: middle;\n",
       "    }\n",
       "\n",
       "    .dataframe tbody tr th {\n",
       "        vertical-align: top;\n",
       "    }\n",
       "\n",
       "    .dataframe thead th {\n",
       "        text-align: right;\n",
       "    }\n",
       "</style>\n",
       "<table border=\"1\" class=\"dataframe\">\n",
       "  <thead>\n",
       "    <tr style=\"text-align: right;\">\n",
       "      <th></th>\n",
       "      <th>Contact Numbers</th>\n",
       "    </tr>\n",
       "  </thead>\n",
       "  <tbody>\n",
       "    <tr>\n",
       "      <th>1</th>\n",
       "      <td>+91-985-556-8744</td>\n",
       "    </tr>\n",
       "    <tr>\n",
       "      <th>2</th>\n",
       "      <td>+91-935-551-4172</td>\n",
       "    </tr>\n",
       "    <tr>\n",
       "      <th>3</th>\n",
       "      <td>+91-855-524-2371</td>\n",
       "    </tr>\n",
       "    <tr>\n",
       "      <th>4</th>\n",
       "      <td>+91-855-579-5317</td>\n",
       "    </tr>\n",
       "    <tr>\n",
       "      <th>5</th>\n",
       "      <td>+91-915-557-2013</td>\n",
       "    </tr>\n",
       "  </tbody>\n",
       "</table>\n",
       "</div>"
      ],
      "text/plain": [
       "    Contact Numbers\n",
       "1  +91-985-556-8744\n",
       "2  +91-935-551-4172\n",
       "3  +91-855-524-2371\n",
       "4  +91-855-579-5317\n",
       "5  +91-915-557-2013"
      ]
     },
     "execution_count": 21,
     "metadata": {},
     "output_type": "execute_result"
    }
   ],
   "source": [
    "contact_df = pd.read_csv('file.txt', sep=\"\\n\", header=0, names = ['Contact Numbers'])\n",
    "contact_df.drop([0], inplace=True)\n",
    "#contact_df.rename(columns = {0:'Contacts'}, inplace = True) \n",
    "contact_df.head()"
   ]
  },
  {
   "cell_type": "markdown",
   "metadata": {},
   "source": [
    "# Functions to Generate a valid IMEI for Target Number"
   ]
  },
  {
   "cell_type": "code",
   "execution_count": 4,
   "metadata": {},
   "outputs": [],
   "source": [
    "def luhn_residue(digits):\n",
    "    return sum(sum(divmod(int(d)*(1 + i%2), 10))\n",
    "                 for i, d in enumerate(digits[::-1])) % 10"
   ]
  },
  {
   "cell_type": "code",
   "execution_count": 5,
   "metadata": {},
   "outputs": [],
   "source": [
    "def getImei(N):\n",
    "    part = ''.join(str(random.randrange(0,9)) for _ in range(N-1))\n",
    "    res = luhn_residue('{}{}'.format(part, 0))\n",
    "    return '{}{}'.format(part, -res%10)"
   ]
  },
  {
   "cell_type": "code",
   "execution_count": 6,
   "metadata": {},
   "outputs": [],
   "source": [
    "def get_Imei_list(number_of_imeis, number_of_logs):\n",
    "    temp_list = []\n",
    "    \n",
    "    for i in range(number_of_imeis):\n",
    "        temp_list.append(getImei(15))\n",
    "        \n",
    "    IMEI_list = []\n",
    "    for _ in range(number_of_logs):\n",
    "        IMEI_list.append(random.choice(temp_list))\n",
    "    \n",
    "    return IMEI_list"
   ]
  },
  {
   "cell_type": "markdown",
   "metadata": {},
   "source": [
    "# Function to generate Callers or Called List"
   ]
  },
  {
   "cell_type": "code",
   "execution_count": 7,
   "metadata": {},
   "outputs": [],
   "source": [
    "def called_numbers(number_of_logs):\n",
    "    call_list = []\n",
    "    for i in range(number_of_logs):\n",
    "        call_list.append(random.choice(list(contact_df['Contact Numbers'])))\n",
    "    return call_list"
   ]
  },
  {
   "cell_type": "markdown",
   "metadata": {},
   "source": [
    "# Generating Call Duration Logs"
   ]
  },
  {
   "cell_type": "code",
   "execution_count": 8,
   "metadata": {},
   "outputs": [],
   "source": [
    "def random_start_call(start, end):\n",
    "    \"\"\"\n",
    "    This function will return a random datetime between two datetime \n",
    "    objects.\n",
    "    \"\"\"\n",
    "    delta = end - start\n",
    "    int_delta = (delta.days * 24 * 60 * 60) + delta.seconds\n",
    "    random_second = random.randrange(int_delta)\n",
    "    return start + timedelta(seconds=random_second)"
   ]
  },
  {
   "cell_type": "code",
   "execution_count": 9,
   "metadata": {},
   "outputs": [],
   "source": [
    "def random_end_call(start):\n",
    "    return start + timedelta(minutes=random.randrange(60), seconds=random.randrange(60))"
   ]
  },
  {
   "cell_type": "code",
   "execution_count": 10,
   "metadata": {},
   "outputs": [],
   "source": [
    "#start_stamp = datetime.strptime('1/1/2020 1:30 PM', '%m/%d/%Y %I:%M %p')\n",
    "#end_stamp = datetime.strptime('3/10/2020 4:50 AM', '%m/%d/%Y %I:%M %p')\n",
    "\n",
    "def call_durations(cdr_start_stamp, cdr_end_stamp, number):\n",
    "    call_durations={\n",
    "        'call_start_stamp':[],\n",
    "        'call_end_stamp':[],\n",
    "    }\n",
    "    \n",
    "    start_stamp = datetime.strptime(cdr_start_stamp, '%m/%d/%Y %I:%M %p')\n",
    "    end_stamp = datetime.strptime(cdr_end_stamp, '%m/%d/%Y %I:%M %p')\n",
    "    \n",
    "    for _ in range(number):\n",
    "        call_durations['call_start_stamp'].append((random_start_call(start_stamp, end_stamp)))\n",
    "        \n",
    "    for i in call_durations['call_start_stamp']:\n",
    "        call_durations['call_end_stamp'].append(random_end_call(i))\n",
    "    \n",
    "    return call_durations"
   ]
  },
  {
   "cell_type": "markdown",
   "metadata": {},
   "source": [
    "# Generating Random Locations for Analysis"
   ]
  },
  {
   "cell_type": "code",
   "execution_count": 20,
   "metadata": {},
   "outputs": [],
   "source": [
    "def random_locations(flag, n):\n",
    "    calling_location_list = []\n",
    "    \n",
    "    if flag == 'Y'  or flag == 'y':\n",
    "        \n",
    "        locations = [\n",
    "            (28.820991, 78.829161),\n",
    "            (28.838699, 78.854447),\n",
    "            (28.826354, 78.768192),\n",
    "            (28.818365, 78.766281),\n",
    "            (28.836814, 78.800175),\n",
    "            (28.696474, 78.660419)    \n",
    "        ]\n",
    "\n",
    "        for i in range(n):\n",
    "            calling_location_list.append(random.choice(locations))\n",
    "            \n",
    "    return calling_location_list"
   ]
  },
  {
   "cell_type": "markdown",
   "metadata": {},
   "source": [
    "# Function to Generate CDR in CSV and JSON format"
   ]
  },
  {
   "cell_type": "code",
   "execution_count": 12,
   "metadata": {},
   "outputs": [],
   "source": [
    "def generate_cdr(IMEI_list, target_number_list, call_list, call_durations, calling_location_list, n):\n",
    "    \n",
    "    cdr_df = pd.DataFrame({\n",
    "        'IMEI_Number': IMEI_list,\n",
    "        'Phone_Number': target_number_list,\n",
    "        'Called_Numbers': call_list,\n",
    "        'Type': [random.choice(['INCOMING','OUTGOING']) for i in range(n)],\n",
    "        'Call_Start_Time': call_durations['call_start_stamp'],\n",
    "        'Call_End_Time': call_durations['call_end_stamp'],\n",
    "        'Location': calling_location_list\n",
    "    })\n",
    "    \n",
    "#    cdr_df.to_csv('CDR for {}.csv'.format(target_number_list[0]))\n",
    " #   cdr_df.to_json('CDR for {}.json'.format(target_number_list[0]))\n",
    "    cdr_df.to_excel('CDR for {}.xlsx'.format(target_number_list[0]), index=None)\n",
    "    print(cdr_df)"
   ]
  },
  {
   "cell_type": "markdown",
   "metadata": {},
   "source": [
    "# Main Function"
   ]
  },
  {
   "cell_type": "code",
   "execution_count": 13,
   "metadata": {},
   "outputs": [],
   "source": [
    "def main():\n",
    "    target_number =  '+91-'+input(\"Enter the phone number(without country code): \")\n",
    "    number_of_logs = int(input('Enter the number of call logs to generate: '))\n",
    "    target_number_list = [target_number for i in range(number_of_logs)]\n",
    "    called_list = called_numbers(number_of_logs)\n",
    "    number_of_imeis = int(input('Enter Number of random IMEI for {}: '.format(target_number)))\n",
    "    imei_list = get_Imei_list(number_of_imeis, number_of_logs)\n",
    "    \n",
    "    cdr_start_stamp = input('''\n",
    "    Enter the start date for the CDR in the format-\n",
    "        (mm/dd/yyyy hh/mm AM/PM)\n",
    "    =>      1/1/2020 1:30 PM\n",
    "    \n",
    "    Start Date: \n",
    "    ''')\n",
    "    \n",
    "    cdr_end_stamp = input('''\n",
    "    Enter the end date for the CDR in the format-\n",
    "        (mm/dd/yyyy hh/mm AM/PM)\n",
    "    =>      1/1/2020 1:30 PM\n",
    "    \n",
    "    End Date: \n",
    "    ''')\n",
    "    \n",
    "    call_duration_dict=call_durations(cdr_start_stamp, cdr_end_stamp, number_of_logs)\n",
    "    \n",
    "    flag = input('Do you want pre-set random locations(Y/N): ')\n",
    "    location_list = random_locations(flag, number_of_logs)\n",
    "    generate_cdr(imei_list, target_number_list, called_list, call_duration_dict, location_list, number_of_logs)"
   ]
  },
  {
   "cell_type": "code",
   "execution_count": 14,
   "metadata": {},
   "outputs": [
    {
     "name": "stdout",
     "output_type": "stream",
     "text": [
      "Enter the phone number(without country code): 9457614680\n",
      "Enter the number of call logs to generate: 1500\n",
      "Enter Number of random IMEI for +91-9457614680: 1\n",
      "\n",
      "    Enter the start date for the CDR in the format-\n",
      "        (mm/dd/yyyy hh/mm AM/PM)\n",
      "    =>      1/1/2020 1:30 PM\n",
      "    \n",
      "    Start Date: \n",
      "    1/1/2020 1:30 PM\n",
      "\n",
      "    Enter the end date for the CDR in the format-\n",
      "        (mm/dd/yyyy hh/mm AM/PM)\n",
      "    =>      1/1/2020 1:30 PM\n",
      "    \n",
      "    End Date: \n",
      "    3/10/2020 4:50 AM\n",
      "Do you want pre-set random locations(Y/N): Y\n",
      "          IMEI_Number    Phone_Number    Called_Numbers      Type  \\\n",
      "0     417653214210729  +91-9457614680  +91-755-505-9181  INCOMING   \n",
      "1     417653214210729  +91-9457614680  +91-855-538-8796  OUTGOING   \n",
      "2     417653214210729  +91-9457614680  +91-755-517-4792  OUTGOING   \n",
      "3     417653214210729  +91-9457614680  +91-855-551-1010  OUTGOING   \n",
      "4     417653214210729  +91-9457614680  +91-855-526-2805  OUTGOING   \n",
      "...               ...             ...               ...       ...   \n",
      "1495  417653214210729  +91-9457614680  +91-855-518-6589  OUTGOING   \n",
      "1496  417653214210729  +91-9457614680  +91-855-526-9482  OUTGOING   \n",
      "1497  417653214210729  +91-9457614680  +91-755-555-8348  INCOMING   \n",
      "1498  417653214210729  +91-9457614680  +91-755-598-9232  INCOMING   \n",
      "1499  417653214210729  +91-9457614680  +91-755-561-0725  INCOMING   \n",
      "\n",
      "         Call_Start_Time       Call_End_Time                Location  \n",
      "0    2020-01-27 00:59:03 2020-01-27 01:27:59  (28.696474, 78.660419)  \n",
      "1    2020-02-25 02:56:03 2020-02-25 02:58:54  (28.847369, 78.758552)  \n",
      "2    2020-01-30 15:39:44 2020-01-30 16:38:23  (28.892516, 78.725159)  \n",
      "3    2020-01-06 15:05:41 2020-01-06 15:09:06  (28.892516, 78.725159)  \n",
      "4    2020-01-22 16:13:43 2020-01-22 16:29:51  (28.696474, 78.660419)  \n",
      "...                  ...                 ...                     ...  \n",
      "1495 2020-01-26 14:16:57 2020-01-26 15:16:46  (28.892516, 78.725159)  \n",
      "1496 2020-02-24 06:45:16 2020-02-24 07:24:31  (28.881342, 78.581894)  \n",
      "1497 2020-01-03 22:28:55 2020-01-03 23:13:55  (28.892516, 78.725159)  \n",
      "1498 2020-01-28 06:52:45 2020-01-28 07:14:04  (28.892516, 78.725159)  \n",
      "1499 2020-03-08 19:44:11 2020-03-08 20:31:21  (28.696474, 78.660419)  \n",
      "\n",
      "[1500 rows x 7 columns]\n"
     ]
    }
   ],
   "source": [
    "# Call this cell to start generating your CDR\n",
    "main()"
   ]
  },
  {
   "cell_type": "code",
   "execution_count": 22,
   "metadata": {},
   "outputs": [
    {
     "name": "stdout",
     "output_type": "stream",
     "text": [
      "Enter the phone number(without country code): 7555648571\n",
      "Enter the number of call logs to generate: 1500\n",
      "Enter Number of random IMEI for +91-7555648571: 1\n",
      "\n",
      "    Enter the start date for the CDR in the format-\n",
      "        (mm/dd/yyyy hh/mm AM/PM)\n",
      "    =>      1/1/2020 1:30 PM\n",
      "    \n",
      "    Start Date: \n",
      "    1/1/2020 1:30 PM\n",
      "\n",
      "    Enter the end date for the CDR in the format-\n",
      "        (mm/dd/yyyy hh/mm AM/PM)\n",
      "    =>      1/1/2020 1:30 PM\n",
      "    \n",
      "    End Date: \n",
      "    3/10/2020 4:50 AM\n",
      "Do you want pre-set random locations(Y/N): Y\n",
      "          IMEI_Number    Phone_Number    Called_Numbers      Type  \\\n",
      "0     000012738657217  +91-7555648571  +91-755-522-9356  OUTGOING   \n",
      "1     000012738657217  +91-7555648571  +91-955-552-5033  OUTGOING   \n",
      "2     000012738657217  +91-7555648571  +91-755-511-1920  INCOMING   \n",
      "3     000012738657217  +91-7555648571  +91-755-564-0578  INCOMING   \n",
      "4     000012738657217  +91-7555648571  +91-855-513-6692  OUTGOING   \n",
      "...               ...             ...               ...       ...   \n",
      "1495  000012738657217  +91-7555648571  +91-905-556-5719  OUTGOING   \n",
      "1496  000012738657217  +91-7555648571  +91-925-557-3998  INCOMING   \n",
      "1497  000012738657217  +91-7555648571  +91-755-527-3743  OUTGOING   \n",
      "1498  000012738657217  +91-7555648571  +91-855-526-9482  INCOMING   \n",
      "1499  000012738657217  +91-7555648571  +91-855-553-2320  OUTGOING   \n",
      "\n",
      "         Call_Start_Time       Call_End_Time                Location  \n",
      "0    2020-01-19 04:30:05 2020-01-19 04:46:05  (28.836814, 78.800175)  \n",
      "1    2020-01-19 18:17:24 2020-01-19 19:10:00  (28.696474, 78.660419)  \n",
      "2    2020-02-18 05:55:39 2020-02-18 06:34:37  (28.838699, 78.854447)  \n",
      "3    2020-01-06 00:54:07 2020-01-06 01:13:43  (28.820991, 78.829161)  \n",
      "4    2020-02-22 22:45:49 2020-02-22 22:54:15  (28.696474, 78.660419)  \n",
      "...                  ...                 ...                     ...  \n",
      "1495 2020-03-02 15:37:06 2020-03-02 16:32:09  (28.818365, 78.766281)  \n",
      "1496 2020-01-30 08:58:50 2020-01-30 09:43:40  (28.838699, 78.854447)  \n",
      "1497 2020-02-26 15:53:45 2020-02-26 16:03:12  (28.818365, 78.766281)  \n",
      "1498 2020-01-14 11:24:25 2020-01-14 11:44:15  (28.818365, 78.766281)  \n",
      "1499 2020-02-05 00:30:38 2020-02-05 00:39:03  (28.696474, 78.660419)  \n",
      "\n",
      "[1500 rows x 7 columns]\n"
     ]
    }
   ],
   "source": [
    "main()"
   ]
  },
  {
   "cell_type": "markdown",
   "metadata": {},
   "source": [
    "# Summary\n",
    "- This CDR generator is a reliable generator that produces CDR on User reuirements.\n",
    "- CDR includes the following features:-\n",
    "        - IMEI Number\n",
    "        - Phone Number (Target Number)\n",
    "        - Called/Caller Number\n",
    "        - Call Start Stamp\n",
    "        - Call End Stamp\n",
    "        - Location of the Call(Lat & Long Coordinates)\n",
    "- Locations are by default genrated on hard coded coordinates."
   ]
  },
  {
   "cell_type": "markdown",
   "metadata": {},
   "source": [
    "## Drawbacks\n",
    "[ ] This generator seriously require an algorithm to produuce random location coordinates according to user needs keeping intact the analysis approach.\n",
    "\n",
    "[ ] This Generator can not produce multiple CDRs (linked in some way with same contacts)."
   ]
  },
  {
   "cell_type": "markdown",
   "metadata": {},
   "source": [
    "# OPEN FOR SUGGESTION AND IMPROVEMENTS.\n",
    "\n",
    "![alt text](https://mtv.mtvnimages.com/uri/mgid:file:http:shared:mtv.com/news/wp-content/uploads/2015/12/suggestions-1449024387.gif?quality=.8&height=294&width=540)"
   ]
  }
 ],
 "metadata": {
  "kernelspec": {
   "display_name": "Python 3",
   "language": "python",
   "name": "python3"
  },
  "language_info": {
   "codemirror_mode": {
    "name": "ipython",
    "version": 3
   },
   "file_extension": ".py",
   "mimetype": "text/x-python",
   "name": "python",
   "nbconvert_exporter": "python",
   "pygments_lexer": "ipython3",
   "version": "3.7.6"
  }
 },
 "nbformat": 4,
 "nbformat_minor": 4
}

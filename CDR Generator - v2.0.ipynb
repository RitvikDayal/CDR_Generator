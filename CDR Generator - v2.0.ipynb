{
 "cells": [
  {
   "cell_type": "markdown",
   "metadata": {},
   "source": [
    "# CDR Generator"
   ]
  },
  {
   "cell_type": "code",
   "execution_count": 23,
   "metadata": {},
   "outputs": [],
   "source": [
    "import pandas as pd\n",
    "import random\n",
    "import math\n",
    "from datetime import timedelta, datetime"
   ]
  },
  {
   "cell_type": "markdown",
   "metadata": {},
   "source": [
    "## Loading contact list\n",
    "Here a text file containing 100 contacts is loaded. The numbers are accorsing to Indian Phone Nuumbers Standards"
   ]
  },
  {
   "cell_type": "markdown",
   "metadata": {},
   "source": [
    "# Functions to Generate a valid IMEI for Target Number"
   ]
  },
  {
   "cell_type": "code",
   "execution_count": 25,
   "metadata": {},
   "outputs": [],
   "source": [
    "def luhn_residue(digits):\n",
    "    return sum(sum(divmod(int(d)*(1 + i%2), 10))\n",
    "                 for i, d in enumerate(digits[::-1])) % 10"
   ]
  },
  {
   "cell_type": "code",
   "execution_count": 26,
   "metadata": {},
   "outputs": [],
   "source": [
    "def getImei(N):\n",
    "    part = ''.join(str(random.randrange(0,9)) for _ in range(N-1))\n",
    "    res = luhn_residue('{}{}'.format(part, 0))\n",
    "    return '{}{}'.format(part, -res%10)"
   ]
  },
  {
   "cell_type": "code",
   "execution_count": 27,
   "metadata": {},
   "outputs": [],
   "source": [
    "def get_Imei_list(number_of_imeis, number_of_logs):\n",
    "    temp_list = []\n",
    "    \n",
    "    for i in range(number_of_imeis):\n",
    "        temp_list.append(str(getImei(15)))\n",
    "        \n",
    "    IMEI_list = []\n",
    "    for _ in range(number_of_logs):\n",
    "        IMEI_list.append(random.choice(temp_list))\n",
    "    \n",
    "    return IMEI_list"
   ]
  },
  {
   "cell_type": "markdown",
   "metadata": {},
   "source": [
    "# Function to generate Callers or Called List"
   ]
  },
  {
   "cell_type": "code",
   "execution_count": 28,
   "metadata": {},
   "outputs": [],
   "source": [
    "def called_numbers(number_of_logs):\n",
    "    call_list = []\n",
    "    for i in range(number_of_logs):\n",
    "        call_list.append(random.choice(list(contact_df['Contact Numbers'])))\n",
    "    return call_list"
   ]
  },
  {
   "cell_type": "markdown",
   "metadata": {},
   "source": [
    "# Generating Call Duration Logs"
   ]
  },
  {
   "cell_type": "code",
   "execution_count": 29,
   "metadata": {},
   "outputs": [],
   "source": [
    "def random_start_call(start, end):\n",
    "    \"\"\"\n",
    "    This function will return a random datetime between two datetime \n",
    "    objects.\n",
    "    \"\"\"\n",
    "    delta = end - start\n",
    "    int_delta = (delta.days * 24 * 60 * 60) + delta.seconds\n",
    "    random_second = random.randrange(int_delta)\n",
    "    return start + timedelta(seconds=random_second)"
   ]
  },
  {
   "cell_type": "code",
   "execution_count": 30,
   "metadata": {},
   "outputs": [],
   "source": [
    "def random_end_call(start):\n",
    "    return start + timedelta(minutes=random.randrange(60), seconds=random.randrange(60))"
   ]
  },
  {
   "cell_type": "code",
   "execution_count": 31,
   "metadata": {},
   "outputs": [],
   "source": [
    "#start_stamp = datetime.strptime('1/1/2020 1:30 PM', '%m/%d/%Y %I:%M %p')\n",
    "#end_stamp = datetime.strptime('3/10/2020 4:50 AM', '%m/%d/%Y %I:%M %p')\n",
    "\n",
    "def call_durations(cdr_start_stamp, cdr_end_stamp, number):\n",
    "    call_durations={\n",
    "        'call_start_stamp':[],\n",
    "        'call_end_stamp':[],\n",
    "    }\n",
    "    \n",
    "    start_stamp = datetime.strptime(cdr_start_stamp, '%m/%d/%Y %I:%M %p')\n",
    "    end_stamp = datetime.strptime(cdr_end_stamp, '%m/%d/%Y %I:%M %p')\n",
    "    \n",
    "    for _ in range(number):\n",
    "        call_durations['call_start_stamp'].append((random_start_call(start_stamp, end_stamp)))\n",
    "        \n",
    "    for i in call_durations['call_start_stamp']:\n",
    "        call_durations['call_end_stamp'].append(random_end_call(i))\n",
    "    \n",
    "    return call_durations"
   ]
  },
  {
   "cell_type": "markdown",
   "metadata": {},
   "source": [
    "# Generating Cell-ID for Analysis"
   ]
  },
  {
   "cell_type": "code",
   "execution_count": 32,
   "metadata": {},
   "outputs": [],
   "source": [
    "def cid_generator(n, num=10):\n",
    "    df = pd.read_excel('cell_id_chart.xlsx')\n",
    "    df = df['MNC'].astype(str)+'-'+df['LAC'].astype(str) +'-'+df['Cell_id'].astype(str)\n",
    "    cid_list = [random.choice(list(df)) for _ in range(num)]\n",
    "    return [random.choice(cid_list) for _ in range(n)]"
   ]
  },
  {
   "cell_type": "markdown",
   "metadata": {},
   "source": [
    "# Function to Generate CDR"
   ]
  },
  {
   "cell_type": "code",
   "execution_count": 33,
   "metadata": {},
   "outputs": [],
   "source": [
    "def generate_cdr(IMEI_list, target_number_list, call_list, call_durations, cell_ids, n):\n",
    "    \n",
    "    cdr_df = pd.DataFrame({\n",
    "        'IMEI_Number': IMEI_list,\n",
    "        'Phone_Number': target_number_list,\n",
    "        'Called_Numbers': call_list,\n",
    "        'Type': [random.choice(['INCOMING','OUTGOING']) for i in range(n)],\n",
    "        'Call_Start_Time': call_durations['call_start_stamp'],\n",
    "        'Call_End_Time': call_durations['call_end_stamp'],\n",
    "        'Cell ID': cell_ids\n",
    "    })\n",
    "    \n",
    "#    cdr_df.to_csv('CDR for {}.csv'.format(target_number_list[0]))\n",
    "#    cdr_df.to_json('CDR for {}.json'.format(target_number_list[0]))\n",
    "    cdr_df.to_excel('CDR for {}.xlsx'.format(target_number_list[0]))\n",
    "    print(cdr_df.head())"
   ]
  },
  {
   "cell_type": "markdown",
   "metadata": {},
   "source": [
    "# Main Function"
   ]
  },
  {
   "cell_type": "code",
   "execution_count": 34,
   "metadata": {},
   "outputs": [],
   "source": [
    "def main():\n",
    "    \n",
    "    target_number =  '+91-'+input(\"Enter the phone number(without country code): \")\n",
    "    number_of_logs = int(input('Enter the number of call logs to generate: '))\n",
    "    target_number_list = [str(target_number) for i in range(number_of_logs)]\n",
    "    called_list = called_numbers(number_of_logs)\n",
    "    number_of_imeis = int(input('Enter Number of random IMEI for {}: '.format(target_number)))\n",
    "    imei_list = get_Imei_list(number_of_imeis, number_of_logs)\n",
    "    \n",
    "    cdr_start_stamp = input('''\n",
    "    Enter the start date for the CDR in the format-\n",
    "        (mm/dd/yyyy hh/mm AM/PM)\n",
    "    =>      1/1/2020 1:30 PM\n",
    "    \n",
    "    Start Date: \n",
    "    ''')\n",
    "    \n",
    "    cdr_end_stamp = input('''\n",
    "    Enter the end date for the CDR in the format-\n",
    "        (mm/dd/yyyy hh/mm AM/PM)\n",
    "    =>      1/1/2020 1:30 PM\n",
    "    \n",
    "    End Date: \n",
    "    ''')\n",
    "    \n",
    "    call_duration_dict=call_durations(cdr_start_stamp, cdr_end_stamp, number_of_logs)\n",
    "    \n",
    "    location_list = cid_generator(number_of_logs)\n",
    "    generate_cdr(imei_list, target_number_list, called_list, call_duration_dict, location_list, number_of_logs)"
   ]
  },
  {
   "cell_type": "code",
   "execution_count": 43,
   "metadata": {},
   "outputs": [
    {
     "data": {
      "text/html": [
       "<div>\n",
       "<style scoped>\n",
       "    .dataframe tbody tr th:only-of-type {\n",
       "        vertical-align: middle;\n",
       "    }\n",
       "\n",
       "    .dataframe tbody tr th {\n",
       "        vertical-align: top;\n",
       "    }\n",
       "\n",
       "    .dataframe thead th {\n",
       "        text-align: right;\n",
       "    }\n",
       "</style>\n",
       "<table border=\"1\" class=\"dataframe\">\n",
       "  <thead>\n",
       "    <tr style=\"text-align: right;\">\n",
       "      <th></th>\n",
       "      <th>Contact Numbers</th>\n",
       "    </tr>\n",
       "  </thead>\n",
       "  <tbody>\n",
       "    <tr>\n",
       "      <th>0</th>\n",
       "      <td>+91-985-550-6626</td>\n",
       "    </tr>\n",
       "    <tr>\n",
       "      <th>1</th>\n",
       "      <td>+91-985-556-8744</td>\n",
       "    </tr>\n",
       "    <tr>\n",
       "      <th>2</th>\n",
       "      <td>+91-935-551-4172</td>\n",
       "    </tr>\n",
       "    <tr>\n",
       "      <th>3</th>\n",
       "      <td>+91-855-524-2371</td>\n",
       "    </tr>\n",
       "    <tr>\n",
       "      <th>4</th>\n",
       "      <td>+91-855-579-5317</td>\n",
       "    </tr>\n",
       "  </tbody>\n",
       "</table>\n",
       "</div>"
      ],
      "text/plain": [
       "    Contact Numbers\n",
       "0  +91-985-550-6626\n",
       "1  +91-985-556-8744\n",
       "2  +91-935-551-4172\n",
       "3  +91-855-524-2371\n",
       "4  +91-855-579-5317"
      ]
     },
     "execution_count": 43,
     "metadata": {},
     "output_type": "execute_result"
    }
   ],
   "source": [
    "contact_df = pd.read_fwf('file.txt', sep=\"\\n\", header=0, names = ['Contact Numbers'])\n",
    "#contact_df.rename(columns = {0:'Contacts'}, inplace = True) \n",
    "contact_df.head()"
   ]
  },
  {
   "cell_type": "code",
   "execution_count": 44,
   "metadata": {},
   "outputs": [
    {
     "name": "stdout",
     "output_type": "stream",
     "text": [
      "Enter the phone number(without country code): 7555720382\n",
      "Enter the number of call logs to generate: 250\n",
      "Enter Number of random IMEI for +91-7555720382: 3\n",
      "\n",
      "    Enter the start date for the CDR in the format-\n",
      "        (mm/dd/yyyy hh/mm AM/PM)\n",
      "    =>      1/1/2020 1:30 PM\n",
      "    \n",
      "    Start Date: \n",
      "    1/1/2020 1:30 PM\n",
      "\n",
      "    Enter the end date for the CDR in the format-\n",
      "        (mm/dd/yyyy hh/mm AM/PM)\n",
      "    =>      1/1/2020 1:30 PM\n",
      "    \n",
      "    End Date: \n",
      "    2/10/2020 12:00 AM\n",
      "       IMEI_Number    Phone_Number    Called_Numbers      Type  \\\n",
      "0  653572001045655  +91-7555720382  +91-905-556-5719  OUTGOING   \n",
      "1  525482228868465  +91-7555720382  +91-955-559-1994  INCOMING   \n",
      "2  525482228868465  +91-7555720382  +91-755-565-8423  INCOMING   \n",
      "3  653572001045655  +91-7555720382  +91-855-518-6589  INCOMING   \n",
      "4  555008457115618  +91-7555720382  +91-855-579-5317  INCOMING   \n",
      "\n",
      "      Call_Start_Time       Call_End_Time         Cell ID  \n",
      "0 2020-01-18 08:08:10 2020-01-18 08:15:22    97-317-37172  \n",
      "1 2020-01-05 18:49:43 2020-01-05 19:02:05    97-387-27752  \n",
      "2 2020-01-28 20:03:07 2020-01-28 20:19:25  97-14660-39399  \n",
      "3 2020-02-09 07:16:58 2020-02-09 07:36:40     97-301-2913  \n",
      "4 2020-01-31 02:23:59 2020-01-31 02:49:37  97-14112-20302  \n"
     ]
    }
   ],
   "source": [
    "# Call this cell to start generating your CDR\n",
    "main()"
   ]
  },
  {
   "cell_type": "markdown",
   "metadata": {},
   "source": [
    "# Summary\n",
    "- This CDR generator is a reliable generator that produces CDR on User reuirements.\n",
    "- CDR includes the following features:-\n",
    "        - IMEI Number\n",
    "        - Phone Number (Target Number)\n",
    "        - Called/Caller Number\n",
    "        - Call Start Stamp\n",
    "        - Call End Stamp\n",
    "        - Location of the Call(Lat & Long Coordinates)\n",
    "- Locations are by default genrated on hard coded coordinates."
   ]
  },
  {
   "cell_type": "markdown",
   "metadata": {},
   "source": [
    "## Drawbacks\n",
    "[ ] This generator seriously require an algorithm to produuce random location coordinates according to user needs keeping intact the analysis approach.\n",
    "\n",
    "[ ] This Generator can not produce multiple CDRs (linked in some way with same contacts)."
   ]
  },
  {
   "cell_type": "markdown",
   "metadata": {},
   "source": [
    "# OPEN FOR SUGGESTION AND IMPROVEMENTS.\n",
    "\n",
    "![alt text](https://mtv.mtvnimages.com/uri/mgid:file:http:shared:mtv.com/news/wp-content/uploads/2015/12/suggestions-1449024387.gif?quality=.8&height=294&width=540)"
   ]
  }
 ],
 "metadata": {
  "kernelspec": {
   "display_name": "Python 3",
   "language": "python",
   "name": "python3"
  },
  "language_info": {
   "codemirror_mode": {
    "name": "ipython",
    "version": 3
   },
   "file_extension": ".py",
   "mimetype": "text/x-python",
   "name": "python",
   "nbconvert_exporter": "python",
   "pygments_lexer": "ipython3",
   "version": "3.7.6"
  }
 },
 "nbformat": 4,
 "nbformat_minor": 4
}
